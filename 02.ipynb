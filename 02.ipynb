{
 "cells": [
  {
   "cell_type": "code",
   "execution_count": 1,
   "metadata": {},
   "outputs": [],
   "source": [
    "from aocd import get_data\n",
    "from operator import methodcaller\n",
    "\n",
    "input_data = get_data(day=2, year=2022)"
   ]
  },
  {
   "cell_type": "markdown",
   "metadata": {},
   "source": [
    "### Part 1"
   ]
  },
  {
   "cell_type": "code",
   "execution_count": 2,
   "metadata": {},
   "outputs": [
    {
     "data": {
      "text/plain": [
       "[['B', 'X'], ['A', 'Z'], ['A', 'Y'], ['B', 'X'], ['C', 'Z']]"
      ]
     },
     "execution_count": 2,
     "metadata": {},
     "output_type": "execute_result"
    }
   ],
   "source": [
    "rounds = list(map(methodcaller(\"split\", \" \"), input_data.split(\"\\n\")))\n",
    "rounds[:5]"
   ]
  },
  {
   "cell_type": "code",
   "execution_count": 3,
   "metadata": {},
   "outputs": [
    {
     "data": {
      "text/plain": [
       "10994"
      ]
     },
     "execution_count": 3,
     "metadata": {},
     "output_type": "execute_result"
    }
   ],
   "source": [
    "pts = {\"X\" : 1, \"Y\" : 2, \"Z\" : 3}\n",
    "loses_dict = {\"A\" : \"Y\", \"B\" : \"Z\", \"C\" : \"X\"} # k loses to v\n",
    "score = 0\n",
    "\n",
    "for r in rounds:\n",
    "    r_score = pts[r[1]] # initial score based on what we throw\n",
    "    if chr(ord(r[0]) + 23) == r[1]: # tie\n",
    "        r_score += 3\n",
    "    elif loses_dict[r[0]] == r[1]: # win\n",
    "        r_score += 6\n",
    "    score += r_score\n",
    "score"
   ]
  },
  {
   "cell_type": "markdown",
   "metadata": {},
   "source": [
    "### Part 2"
   ]
  },
  {
   "cell_type": "code",
   "execution_count": 4,
   "metadata": {},
   "outputs": [
    {
     "data": {
      "text/plain": [
       "12526"
      ]
     },
     "execution_count": 4,
     "metadata": {},
     "output_type": "execute_result"
    }
   ],
   "source": [
    "loses_dict = {\"A\" : \"B\", \"B\" : \"C\", \"C\" : \"A\"} # k loses to v\n",
    "wins_dict = {\"A\" : \"C\", \"B\" : \"A\", \"C\" : \"B\"}\n",
    "result_pts = {\"X\" : 0, \"Y\" : 3, \"Z\" : 6}\n",
    "pts = {\"A\" : 1, \"B\" : 2, \"C\" : 3}\n",
    "score = 0\n",
    "\n",
    "for r in rounds:\n",
    "    r_score = result_pts[r[1]]\n",
    "    if r[1] == \"Y\": # tie\n",
    "        r_score += pts[r[0]]\n",
    "    elif r[1] == \"Z\": # win\n",
    "        throw = loses_dict[r[0]]\n",
    "        r_score += pts[throw]\n",
    "    else:\n",
    "        throw = wins_dict[r[0]]\n",
    "        r_score += pts[throw]\n",
    "    score += r_score\n",
    "score"
   ]
  },
  {
   "cell_type": "code",
   "execution_count": null,
   "metadata": {},
   "outputs": [],
   "source": []
  }
 ],
 "metadata": {
  "kernelspec": {
   "display_name": "Python 3.10.2 64-bit",
   "language": "python",
   "name": "python3"
  },
  "language_info": {
   "codemirror_mode": {
    "name": "ipython",
    "version": 3
   },
   "file_extension": ".py",
   "mimetype": "text/x-python",
   "name": "python",
   "nbconvert_exporter": "python",
   "pygments_lexer": "ipython3",
   "version": "3.10.2"
  },
  "orig_nbformat": 4,
  "vscode": {
   "interpreter": {
    "hash": "2c7165da6c45b5c4ed323dd6c44faa4f6c65efbcadd145bf10f4cf4986a037c8"
   }
  }
 },
 "nbformat": 4,
 "nbformat_minor": 2
}
