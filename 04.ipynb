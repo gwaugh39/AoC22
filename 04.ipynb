{
 "cells": [
  {
   "cell_type": "code",
   "execution_count": 1,
   "metadata": {},
   "outputs": [],
   "source": [
    "from aocd import get_data\n",
    "import re\n",
    "from operator import methodcaller\n",
    "\n",
    "input_data = get_data(day=4, year=2022)"
   ]
  },
  {
   "cell_type": "code",
   "execution_count": 2,
   "metadata": {},
   "outputs": [],
   "source": [
    "def min_max(zone):\n",
    "    zone = zone.split(\"-\")\n",
    "    return {\"min\" : int(zone[0]), \"max\" : int(zone[1])}\n",
    "\n",
    "def zone_map(zones):\n",
    "    return [min_max(zones[0]), min_max(zones[1])]\n",
    "\n",
    "def complete_overlap(pair):\n",
    "    if pair[0][\"min\"] >= pair[1][\"min\"] and pair[0][\"max\"] <= pair[1][\"max\"]:\n",
    "        return True\n",
    "    elif pair[1][\"min\"] >= pair[0][\"min\"] and pair[1][\"max\"] <= pair[0][\"max\"]:\n",
    "        return True\n",
    "    return False"
   ]
  },
  {
   "cell_type": "code",
   "execution_count": 3,
   "metadata": {},
   "outputs": [],
   "source": [
    "# input_data = \"2-4,6-8\\n2-3,4-5\\n5-7,7-9\\n2-8,3-7\\n6-6,4-6\\n2-6,4-8\"\n",
    "pairs = list(map(methodcaller(\"split\", \",\"), input_data.split(\"\\n\")))\n",
    "pairs = list(map(zone_map, pairs))\n",
    "overlaps = list(map(complete_overlap, pairs))"
   ]
  },
  {
   "cell_type": "code",
   "execution_count": 4,
   "metadata": {},
   "outputs": [
    {
     "data": {
      "text/plain": [
       "602"
      ]
     },
     "execution_count": 4,
     "metadata": {},
     "output_type": "execute_result"
    }
   ],
   "source": [
    "sum(overlaps)"
   ]
  },
  {
   "cell_type": "markdown",
   "metadata": {},
   "source": [
    "### Part 2"
   ]
  },
  {
   "cell_type": "code",
   "execution_count": 5,
   "metadata": {},
   "outputs": [],
   "source": [
    "def partial_overlap(pair):\n",
    "    range_1 = range(pair[0][\"min\"], pair[0][\"max\"] + 1)\n",
    "    range_2 = range(pair[1][\"min\"], pair[1][\"max\"] + 1)\n",
    "    if pair[0][\"min\"] in range_2:\n",
    "        return True\n",
    "    elif pair[0][\"max\"] in range_2:\n",
    "        return True\n",
    "    elif pair[1][\"min\"] in range_1:\n",
    "        return True\n",
    "    elif pair[1][\"max\"] in range_1:\n",
    "        return True    \n",
    "    return False"
   ]
  },
  {
   "cell_type": "code",
   "execution_count": 6,
   "metadata": {},
   "outputs": [
    {
     "data": {
      "text/plain": [
       "891"
      ]
     },
     "execution_count": 6,
     "metadata": {},
     "output_type": "execute_result"
    }
   ],
   "source": [
    "overlaps = list(map(partial_overlap, pairs))\n",
    "sum(overlaps)"
   ]
  },
  {
   "cell_type": "code",
   "execution_count": null,
   "metadata": {},
   "outputs": [],
   "source": []
  }
 ],
 "metadata": {
  "kernelspec": {
   "display_name": "Python 3.10.2 64-bit",
   "language": "python",
   "name": "python3"
  },
  "language_info": {
   "codemirror_mode": {
    "name": "ipython",
    "version": 3
   },
   "file_extension": ".py",
   "mimetype": "text/x-python",
   "name": "python",
   "nbconvert_exporter": "python",
   "pygments_lexer": "ipython3",
   "version": "3.10.2"
  },
  "orig_nbformat": 4,
  "vscode": {
   "interpreter": {
    "hash": "2c7165da6c45b5c4ed323dd6c44faa4f6c65efbcadd145bf10f4cf4986a037c8"
   }
  }
 },
 "nbformat": 4,
 "nbformat_minor": 2
}
