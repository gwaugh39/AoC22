{
 "cells": [
  {
   "cell_type": "code",
   "execution_count": 1,
   "metadata": {},
   "outputs": [],
   "source": [
    "from aocd import get_data\n",
    "import numpy as np\n",
    "\n",
    "input_data = get_data(day=1, year=2022)"
   ]
  },
  {
   "cell_type": "markdown",
   "metadata": {},
   "source": [
    "### Part 1"
   ]
  },
  {
   "cell_type": "code",
   "execution_count": 2,
   "metadata": {},
   "outputs": [
    {
     "data": {
      "text/plain": [
       "68292"
      ]
     },
     "execution_count": 2,
     "metadata": {},
     "output_type": "execute_result"
    }
   ],
   "source": [
    "# Splitting by elf at double new-line\n",
    "elf_list = [elf.split(\"\\n\") for elf in input_data.split(\"\\n\\n\")]\n",
    "elf_dict = {}\n",
    "\n",
    "# Filling dictionary with calorie counts\n",
    "for i in range(len(elf_list)):\n",
    "    cals = [int(c) for c in elf_list[i]]\n",
    "    elf_dict[i] = sum(cals)\n",
    "\n",
    "# Sorting top elves (indeices)\n",
    "top_elves = sorted(elf_dict, key = lambda x : elf_dict[x], reverse = True)\n",
    "elf_dict[top_elves[0]]"
   ]
  },
  {
   "cell_type": "markdown",
   "metadata": {},
   "source": [
    "### Part 2"
   ]
  },
  {
   "cell_type": "code",
   "execution_count": 3,
   "metadata": {},
   "outputs": [
    {
     "data": {
      "text/plain": [
       "203203"
      ]
     },
     "execution_count": 3,
     "metadata": {},
     "output_type": "execute_result"
    }
   ],
   "source": [
    "top_three_total = sum([elf_dict[elf] for elf in top_elves[:3]])\n",
    "top_three_total"
   ]
  }
 ],
 "metadata": {
  "kernelspec": {
   "display_name": "Python 3.10.2 64-bit",
   "language": "python",
   "name": "python3"
  },
  "language_info": {
   "codemirror_mode": {
    "name": "ipython",
    "version": 3
   },
   "file_extension": ".py",
   "mimetype": "text/x-python",
   "name": "python",
   "nbconvert_exporter": "python",
   "pygments_lexer": "ipython3",
   "version": "3.10.2"
  },
  "orig_nbformat": 4,
  "vscode": {
   "interpreter": {
    "hash": "2c7165da6c45b5c4ed323dd6c44faa4f6c65efbcadd145bf10f4cf4986a037c8"
   }
  }
 },
 "nbformat": 4,
 "nbformat_minor": 2
}
