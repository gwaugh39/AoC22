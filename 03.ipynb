{
 "cells": [
  {
   "cell_type": "code",
   "execution_count": 1,
   "metadata": {},
   "outputs": [],
   "source": [
    "from aocd import get_data\n",
    "import re\n",
    "from operator import methodcaller\n",
    "\n",
    "input_data = get_data(day=3, year=2022)"
   ]
  },
  {
   "cell_type": "markdown",
   "metadata": {},
   "source": [
    "### Part 1"
   ]
  },
  {
   "cell_type": "code",
   "execution_count": 2,
   "metadata": {},
   "outputs": [],
   "source": [
    "def get_compartments(ruck):\n",
    "    l = len(ruck)\n",
    "    return [ruck[:int(l/2)], ruck[int(l/2):]]\n",
    "\n",
    "def get_priority(compartments):\n",
    "    for item in compartments[0]:\n",
    "        if item in compartments[1]:\n",
    "            if ord(item) >= 97:\n",
    "                return ord(item) - 96\n",
    "            else:\n",
    "                return ord(item) - 38"
   ]
  },
  {
   "cell_type": "code",
   "execution_count": 3,
   "metadata": {},
   "outputs": [],
   "source": [
    "rucks = list(map(get_compartments, input_data.split(\"\\n\")))\n",
    "priorities = list(map(get_priority, rucks))"
   ]
  },
  {
   "cell_type": "code",
   "execution_count": 4,
   "metadata": {},
   "outputs": [
    {
     "data": {
      "text/plain": [
       "7553"
      ]
     },
     "execution_count": 4,
     "metadata": {},
     "output_type": "execute_result"
    }
   ],
   "source": [
    "sum(priorities)"
   ]
  },
  {
   "cell_type": "markdown",
   "metadata": {},
   "source": [
    "### Part 2"
   ]
  },
  {
   "cell_type": "code",
   "execution_count": 5,
   "metadata": {},
   "outputs": [],
   "source": [
    "def get_badge(group):\n",
    "    for item in group[0]:\n",
    "        if item in group[1] and item in group[2]:\n",
    "            return item\n",
    "\n",
    "def get_badge_priority(badge):\n",
    "    if ord(badge) >= 97:\n",
    "        return ord(badge) - 96\n",
    "    else:\n",
    "        return ord(badge) - 38"
   ]
  },
  {
   "cell_type": "code",
   "execution_count": 6,
   "metadata": {},
   "outputs": [],
   "source": [
    "regex = r\"(.+\\n.+\\n.+)\\n?\"\n",
    "groups = list(map(methodcaller(\"split\", \"\\n\"), re.findall(regex, input_data)))\n",
    "badges = list(map(get_badge, groups))\n",
    "priorities = list(map(get_badge_priority, badges))"
   ]
  },
  {
   "cell_type": "code",
   "execution_count": 7,
   "metadata": {},
   "outputs": [
    {
     "data": {
      "text/plain": [
       "2758"
      ]
     },
     "execution_count": 7,
     "metadata": {},
     "output_type": "execute_result"
    }
   ],
   "source": [
    "sum(priorities)"
   ]
  },
  {
   "cell_type": "code",
   "execution_count": null,
   "metadata": {},
   "outputs": [],
   "source": []
  }
 ],
 "metadata": {
  "kernelspec": {
   "display_name": "Python 3.10.2 64-bit",
   "language": "python",
   "name": "python3"
  },
  "language_info": {
   "codemirror_mode": {
    "name": "ipython",
    "version": 3
   },
   "file_extension": ".py",
   "mimetype": "text/x-python",
   "name": "python",
   "nbconvert_exporter": "python",
   "pygments_lexer": "ipython3",
   "version": "3.10.2"
  },
  "orig_nbformat": 4,
  "vscode": {
   "interpreter": {
    "hash": "2c7165da6c45b5c4ed323dd6c44faa4f6c65efbcadd145bf10f4cf4986a037c8"
   }
  }
 },
 "nbformat": 4,
 "nbformat_minor": 2
}
